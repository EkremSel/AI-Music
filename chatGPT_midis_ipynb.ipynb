{
  "cells": [
    {
      "cell_type": "markdown",
      "metadata": {
        "id": "view-in-github",
        "colab_type": "text"
      },
      "source": [
        "<a href=\"https://colab.research.google.com/github/EkremSel/AI-Music/blob/main/chatGPT_midis_ipynb.ipynb\" target=\"_parent\"><img src=\"https://colab.research.google.com/assets/colab-badge.svg\" alt=\"Open In Colab\"/></a>"
      ]
    },
    {
      "cell_type": "markdown",
      "metadata": {
        "id": "s-69Jvmb5XPz"
      },
      "source": [
        "# Generating MIDI Files with ChatGPT\n",
        "\n",
        "![ChatGPT MIDI Generation](https://www.midi.org/images/logos/221001_MIDI_Regd_Mark_16-9_01_FINAL_AdobeExpress_Large.gif)\n",
        "\n",
        "Are you ready to add some musical magic to your life? With ChatGPT, you can generate unique and creative MIDI files just by using the power of natural language. Whether you're a seasoned musician or a newbie in the music world, this Colab notebook is the perfect place to explore the endless possibilities of MIDI generation.\n",
        "\n",
        "## What is ChatGPT?\n",
        "\n",
        "ChatGPT is a large language model developed by OpenAI that is capable of generating natural language responses to a given prompt. In this tutorial, we will be using ChatGPT to generate MIDI files by providing it with musical prompts.\n",
        "\n",
        "## What are MIDI Files?\n",
        "\n",
        "MIDI stands for Musical Instrument Digital Interface. It is a standard protocol for communication between electronic musical instruments and computers. MIDI files contain digital representations of music that can be played back by a computer or other MIDI-capable device.\n",
        "\n",
        "## How does it work?\n",
        "\n",
        "To generate MIDI files with ChatGPT, we will first need to provide it with a musical prompt. This prompt can be a simple melody or a more complex chord progression. ChatGPT will then use its natural language processing capabilities to generate a unique and creative continuation of the prompt in the form of MIDI notes.\n",
        "\n",
        "\n",
        "## About NODODY & THE COMPUTER\n",
        "\n",
        "This tutorial is brought to you by NODODY & THE COMPUTER. Subscribe to our channel at https://www.youtube.com/@nobodyandthecomputer for more videos on music production and technology. For inquiries, contact us at nobodyandthecomputer@gmail.com.\n",
        "\n"
      ]
    },
    {
      "cell_type": "code",
      "execution_count": null,
      "metadata": {
        "colab": {
          "base_uri": "https://localhost:8080/"
        },
        "id": "Qn2VbHBT6xc6",
        "outputId": "29c3d390-8323-4f9d-ea03-cc4b4bf39e05"
      },
      "outputs": [
        {
          "output_type": "stream",
          "name": "stdout",
          "text": [
            "Looking in indexes: https://pypi.org/simple, https://us-python.pkg.dev/colab-wheels/public/simple/\n",
            "Collecting MIDIUtil\n",
            "  Downloading MIDIUtil-1.2.1.tar.gz (1.0 MB)\n",
            "\u001b[2K     \u001b[90m━━━━━━━━━━━━━━━━━━━━━━━━━━━━━━━━━━━━━━━━\u001b[0m \u001b[32m1.0/1.0 MB\u001b[0m \u001b[31m9.5 MB/s\u001b[0m eta \u001b[36m0:00:00\u001b[0m\n",
            "\u001b[?25h  Preparing metadata (setup.py) ... \u001b[?25l\u001b[?25hdone\n",
            "Building wheels for collected packages: MIDIUtil\n",
            "  Building wheel for MIDIUtil (setup.py) ... \u001b[?25l\u001b[?25hdone\n",
            "  Created wheel for MIDIUtil: filename=MIDIUtil-1.2.1-py3-none-any.whl size=54567 sha256=2ec91d658ab7fac6e191f8602d33e1285046f2d40064020be5faba42a9cece04\n",
            "  Stored in directory: /root/.cache/pip/wheels/af/43/4a/00b5e4f2fe5e2cd6e92b461995a3a97a2cebb30ab5783501b0\n",
            "Successfully built MIDIUtil\n",
            "Installing collected packages: MIDIUtil\n",
            "Successfully installed MIDIUtil-1.2.1\n"
          ]
        }
      ],
      "source": [
        "#@title IMPORTS (just run the cell)\n",
        "\n",
        "!pip install MIDIUtil\n",
        "from midiutil import MIDIFile\n",
        "from google.colab import files\n"
      ]
    },
    {
      "cell_type": "markdown",
      "source": [
        "# 1. Go to chatGPT and ask for the MIDI in this way (just copy and paste all this prompt):\n",
        "```C\n",
        "Give me a text representation of a MIDI file but in a simplified version:\n",
        "Each note is represented as a tuple of two elements:\n",
        "The pitch of the note (integer value).\n",
        "The duration of the note (float value) represented as:\n",
        "0.125 for an eighth note\n",
        "0.25 for a quarter note\n",
        "0.5 for a half note\n",
        "1 for a whole note\n",
        "2 for a double whole note\n",
        "\n",
        "The first element of the tuple is a tuple with the pitches of the notes (integer values).\n",
        "The second element of the tuple is the duration of the track (float value) represented in the same way as individual notes.\n",
        "For example:\n",
        "\n",
        "In this way: pitch_duration_data = [ (note,time), (note,time), ... ]\n",
        "\n",
        "I will use MIDO in a colab notebook to convert that text into a midi file and download in my computer\n",
        "```\n",
        "\n",
        "# 2. ChatGPT will provide you with the text representation of a MIDI file. You can copy and paste it and try to use it in the examples below. If it doesn't work, you have two options:\n",
        "## 2.1 Ask chatGPT for the code for a google colab notebook (Copy and paste this prompt):\n",
        "```C\n",
        "Give me the code for a google colab noteeob to convert that text to MIDI and download in my computer.\n",
        "```\n",
        "### 2.2 If you use come of the examples below and give you an error copy and paste the error to chatGPT and see if chatGPT could fixit.\n",
        "\n",
        "# 3. Once you've managed to get a basic MIDI working (downloaded it onto your computer from Google Colab), you can ask ChatGPT for more complex things with the same format, such as:\n",
        "```C\n",
        "With that text representation, write me a more complex MIDI, something inspired by BACH.\n",
        "```\n",
        "or\n",
        "```C\n",
        "With that text representation, write me a more complex MIDI, with multiple tracks as a melody, some chords, a bass\n",
        "```\n",
        "or\n",
        "```C\n",
        "Using that text representation, could you create a MIDI file for the next Aphex Twin album? The track should have multiple layers with intricate, beautiful melodies that blend seamlessly to create a peaceful and harmonious sound. \n",
        "```"
      ],
      "metadata": {
        "id": "8fXtj6I_xVRi"
      }
    },
    {
      "cell_type": "markdown",
      "source": [
        "#EXAMPLE NUMBER ONE, COMPLEX MELODY"
      ],
      "metadata": {
        "id": "eOj4ShCr2yQ0"
      }
    },
    {
      "cell_type": "code",
      "execution_count": null,
      "metadata": {
        "colab": {
          "base_uri": "https://localhost:8080/",
          "height": 52
        },
        "id": "jg5_wuA99wOT",
        "outputId": "4be51171-65a6-4076-85de-92b49a64a645",
        "cellView": "code"
      },
      "outputs": [
        {
          "output_type": "stream",
          "name": "stdout",
          "text": [
            "Looking in indexes: https://pypi.org/simple, https://us-python.pkg.dev/colab-wheels/public/simple/\n",
            "Requirement already satisfied: MIDIUtil in /usr/local/lib/python3.10/dist-packages (1.2.1)\n"
          ]
        },
        {
          "output_type": "display_data",
          "data": {
            "text/plain": [
              "<IPython.core.display.Javascript object>"
            ],
            "application/javascript": [
              "\n",
              "    async function download(id, filename, size) {\n",
              "      if (!google.colab.kernel.accessAllowed) {\n",
              "        return;\n",
              "      }\n",
              "      const div = document.createElement('div');\n",
              "      const label = document.createElement('label');\n",
              "      label.textContent = `Downloading \"${filename}\": `;\n",
              "      div.appendChild(label);\n",
              "      const progress = document.createElement('progress');\n",
              "      progress.max = size;\n",
              "      div.appendChild(progress);\n",
              "      document.body.appendChild(div);\n",
              "\n",
              "      const buffers = [];\n",
              "      let downloaded = 0;\n",
              "\n",
              "      const channel = await google.colab.kernel.comms.open(id);\n",
              "      // Send a message to notify the kernel that we're ready.\n",
              "      channel.send({})\n",
              "\n",
              "      for await (const message of channel.messages) {\n",
              "        // Send a message to notify the kernel that we're ready.\n",
              "        channel.send({})\n",
              "        if (message.buffers) {\n",
              "          for (const buffer of message.buffers) {\n",
              "            buffers.push(buffer);\n",
              "            downloaded += buffer.byteLength;\n",
              "            progress.value = downloaded;\n",
              "          }\n",
              "        }\n",
              "      }\n",
              "      const blob = new Blob(buffers, {type: 'application/binary'});\n",
              "      const a = document.createElement('a');\n",
              "      a.href = window.URL.createObjectURL(blob);\n",
              "      a.download = filename;\n",
              "      div.appendChild(a);\n",
              "      a.click();\n",
              "      div.remove();\n",
              "    }\n",
              "  "
            ]
          },
          "metadata": {}
        },
        {
          "output_type": "display_data",
          "data": {
            "text/plain": [
              "<IPython.core.display.Javascript object>"
            ],
            "application/javascript": [
              "download(\"download_3cf8eafe-c1ec-4e4e-89cf-c45beda3a305\", \"output.mid\", 561)"
            ]
          },
          "metadata": {}
        }
      ],
      "source": [
        "\n",
        "!pip install MIDIUtil\n",
        "from midiutil import MIDIFile\n",
        "\n",
        "# Simplified pitch and duration data\n",
        "pitch_duration_data = [\n",
        "  (60, 1), (0, 0.5), (64, 1), (0, 0.5),  # C major chord (C4, E4), half notes with silences\n",
        "  (67, 0.5), (65, 0.5), (64, 0.5), (62, 0.5),  # G4, F4, E4, D4, quarter notes\n",
        "  (60, 1), (0, 0.5), (67, 1), (0, 0.5),  # C4, G4, half notes with silences\n",
        "  (65, 1), (0, 0.5), (62, 1), (0, 0.5),  # F4, D4, half notes with silences\n",
        "  (60, 0.5), (64, 0.5), (67, 0.5), (71, 0.5),  # C4, E4, G4, B4, quarter notes\n",
        "  (72, 1), (0, 0.5), (69, 1), (0, 0.5),  # C5, A4, half notes with silences\n",
        "  (67, 1), (0, 0.5), (64, 1), (0, 0.5),  # G4, E4, half notes with silences\n",
        "  (62, 0.5), (60, 0.5), (62, 0.5), (64, 0.5),  # D4, C4, D4, E4, quarter notes\n",
        "  (65, 1), (0, 0.5), (64, 1), (0, 0.5),  # F4, E4, half notes with silences\n",
        "  (62, 0.5), (64, 0.5), (65, 0.5), (67, 0.5),  # D4, E4, F4, G4, quarter notes\n",
        "  (69, 1), (0, 0.5), (72, 1), (0, 0.5),  # A4, C5, half notes with silences\n",
        "  (71, 1), (0, 0.5), (67, 1), (0, 0.5),  # B4, G4, half notes with silences\n",
        "  (64, 0.5), (65, 0.5), (67, 0.5), (62, 0.5),  # E4, F4, G4, D4, quarter notes\n",
        "  (60, 1), (0, 0.5), (60, 1), (0, 0.5),  # C4, C4, half notes with silences\n",
        "  (60, 1)  # C4, whole note\n",
        "]\n",
        "\n",
        "\n",
        "# Create a MIDI file with one track\n",
        "midi_file = MIDIFile(1)\n",
        "\n",
        "# Set the initial tempo\n",
        "tempo = 120\n",
        "midi_file.addTempo(0, 0, tempo)\n",
        "\n",
        "# Set the initial instrument\n",
        "instrument = 0  # Acoustic Grand Piano\n",
        "midi_file.addProgramChange(0, 0, 0, instrument)\n",
        "\n",
        "# Add the notes\n",
        "channel = 0\n",
        "volume = 80\n",
        "current_time = 0\n",
        "\n",
        "for pitch, duration in pitch_duration_data:\n",
        "    midi_file.addNote(track=0, channel=channel, pitch=pitch, time=current_time, duration=duration, volume=volume)\n",
        "    current_time += duration\n",
        "\n",
        "# Save the MIDI file\n",
        "with open(\"output.mid\", \"wb\") as output_file:\n",
        "    midi_file.writeFile(output_file)\n",
        "\n",
        "# Download the MIDI file (if using Google Colab)\n",
        "from google.colab import files\n",
        "files.download(\"output.mid\")\n"
      ]
    },
    {
      "cell_type": "markdown",
      "source": [],
      "metadata": {
        "id": "3O23PwXe219q"
      }
    },
    {
      "cell_type": "markdown",
      "source": [
        "# EXAMPLE NUMBER 2"
      ],
      "metadata": {
        "id": "gA9r2dp929Dt"
      }
    },
    {
      "cell_type": "code",
      "execution_count": null,
      "metadata": {
        "colab": {
          "base_uri": "https://localhost:8080/",
          "height": 52
        },
        "id": "2x0nYDbQnp_7",
        "outputId": "a548971a-469e-47c6-9e03-e361e87cf615"
      },
      "outputs": [
        {
          "output_type": "stream",
          "name": "stdout",
          "text": [
            "Looking in indexes: https://pypi.org/simple, https://us-python.pkg.dev/colab-wheels/public/simple/\n",
            "Requirement already satisfied: MIDIUtil in /usr/local/lib/python3.10/dist-packages (1.2.1)\n"
          ]
        },
        {
          "output_type": "display_data",
          "data": {
            "text/plain": [
              "<IPython.core.display.Javascript object>"
            ],
            "application/javascript": [
              "\n",
              "    async function download(id, filename, size) {\n",
              "      if (!google.colab.kernel.accessAllowed) {\n",
              "        return;\n",
              "      }\n",
              "      const div = document.createElement('div');\n",
              "      const label = document.createElement('label');\n",
              "      label.textContent = `Downloading \"${filename}\": `;\n",
              "      div.appendChild(label);\n",
              "      const progress = document.createElement('progress');\n",
              "      progress.max = size;\n",
              "      div.appendChild(progress);\n",
              "      document.body.appendChild(div);\n",
              "\n",
              "      const buffers = [];\n",
              "      let downloaded = 0;\n",
              "\n",
              "      const channel = await google.colab.kernel.comms.open(id);\n",
              "      // Send a message to notify the kernel that we're ready.\n",
              "      channel.send({})\n",
              "\n",
              "      for await (const message of channel.messages) {\n",
              "        // Send a message to notify the kernel that we're ready.\n",
              "        channel.send({})\n",
              "        if (message.buffers) {\n",
              "          for (const buffer of message.buffers) {\n",
              "            buffers.push(buffer);\n",
              "            downloaded += buffer.byteLength;\n",
              "            progress.value = downloaded;\n",
              "          }\n",
              "        }\n",
              "      }\n",
              "      const blob = new Blob(buffers, {type: 'application/binary'});\n",
              "      const a = document.createElement('a');\n",
              "      a.href = window.URL.createObjectURL(blob);\n",
              "      a.download = filename;\n",
              "      div.appendChild(a);\n",
              "      a.click();\n",
              "      div.remove();\n",
              "    }\n",
              "  "
            ]
          },
          "metadata": {}
        },
        {
          "output_type": "display_data",
          "data": {
            "text/plain": [
              "<IPython.core.display.Javascript object>"
            ],
            "application/javascript": [
              "download(\"download_9766f301-769a-4ec0-af04-681f35084cbc\", \"output.mid\", 183)"
            ]
          },
          "metadata": {}
        }
      ],
      "source": [
        "# Simplified pitch and duration data\n",
        "pitch_duration_data = [\n",
        "(60, 0.5), # C4, quarter note\n",
        "(62, 0.5), # D4, quarter note\n",
        "(64, 0.5), # E4, quarter note\n",
        "(65, 0.5), # F4, quarter note\n",
        "(67, 0.5), # G4, quarter note\n",
        "(69, 0.5), # A4, quarter note\n",
        "(71, 0.5), # B4, quarter note\n",
        "(72, 1.0), # C5, half note\n",
        "(71, 0.25), # B4, eighth note\n",
        "(69, 0.25), # A4, eighth note\n",
        "(67, 0.5), # G4, quarter note\n",
        "(65, 0.5), # F4, quarter note\n",
        "(64, 1.0), # E4, half note\n",
        "(62, 0.5), # D4, quarter note\n",
        "(60, 1.5), # C4, dotted half note\n",
        "]\n",
        "\n",
        "\n",
        "# Create a MIDI file with one track\n",
        "midi_file = MIDIFile(1)\n",
        "\n",
        "# Set the initial tempo\n",
        "tempo = 120\n",
        "midi_file.addTempo(0, 0, tempo)\n",
        "\n",
        "# Set the initial instrument\n",
        "instrument = 0  # Acoustic Grand Piano\n",
        "midi_file.addProgramChange(0, 0, 0, instrument)\n",
        "\n",
        "# Add the notes\n",
        "channel = 0\n",
        "volume = 80\n",
        "current_time = 0\n",
        "\n",
        "for pitch, duration in pitch_duration_data:\n",
        "    midi_file.addNote(track=0, channel=channel, pitch=pitch, time=current_time, duration=duration, volume=volume)\n",
        "    current_time += duration\n",
        "\n",
        "# Save the MIDI file\n",
        "with open(\"output.mid\", \"wb\") as output_file:\n",
        "    midi_file.writeFile(output_file)\n",
        "\n",
        "# Download the MIDI file (if using Google Colab)\n",
        "from google.colab import files\n",
        "files.download(\"output.mid\")"
      ]
    },
    {
      "cell_type": "markdown",
      "source": [
        "# Example number 4, CHOPIN"
      ],
      "metadata": {
        "id": "FI2I85Re3F1f"
      }
    },
    {
      "cell_type": "code",
      "execution_count": null,
      "metadata": {
        "colab": {
          "base_uri": "https://localhost:8080/",
          "height": 17
        },
        "id": "wX8MLywZyqxg",
        "outputId": "87167b8a-142c-4319-83cb-3554a799d607"
      },
      "outputs": [
        {
          "output_type": "display_data",
          "data": {
            "text/plain": [
              "<IPython.core.display.Javascript object>"
            ],
            "application/javascript": [
              "\n",
              "    async function download(id, filename, size) {\n",
              "      if (!google.colab.kernel.accessAllowed) {\n",
              "        return;\n",
              "      }\n",
              "      const div = document.createElement('div');\n",
              "      const label = document.createElement('label');\n",
              "      label.textContent = `Downloading \"${filename}\": `;\n",
              "      div.appendChild(label);\n",
              "      const progress = document.createElement('progress');\n",
              "      progress.max = size;\n",
              "      div.appendChild(progress);\n",
              "      document.body.appendChild(div);\n",
              "\n",
              "      const buffers = [];\n",
              "      let downloaded = 0;\n",
              "\n",
              "      const channel = await google.colab.kernel.comms.open(id);\n",
              "      // Send a message to notify the kernel that we're ready.\n",
              "      channel.send({})\n",
              "\n",
              "      for await (const message of channel.messages) {\n",
              "        // Send a message to notify the kernel that we're ready.\n",
              "        channel.send({})\n",
              "        if (message.buffers) {\n",
              "          for (const buffer of message.buffers) {\n",
              "            buffers.push(buffer);\n",
              "            downloaded += buffer.byteLength;\n",
              "            progress.value = downloaded;\n",
              "          }\n",
              "        }\n",
              "      }\n",
              "      const blob = new Blob(buffers, {type: 'application/binary'});\n",
              "      const a = document.createElement('a');\n",
              "      a.href = window.URL.createObjectURL(blob);\n",
              "      a.download = filename;\n",
              "      div.appendChild(a);\n",
              "      a.click();\n",
              "      div.remove();\n",
              "    }\n",
              "  "
            ]
          },
          "metadata": {}
        },
        {
          "output_type": "display_data",
          "data": {
            "text/plain": [
              "<IPython.core.display.Javascript object>"
            ],
            "application/javascript": [
              "download(\"download_82971bab-a105-4f0f-909b-d767747ca547\", \"output_chopin.mid\", 508)"
            ]
          },
          "metadata": {}
        }
      ],
      "source": [
        "pitch_duration_data = [\n",
        "  ((67,), (64, 60, 55), (43,), 0.5),\n",
        "  ((65,), (62, 57, 53), (45,), 0.5),\n",
        "  ((67,), (64, 60, 57), (43,), 0.5),\n",
        "  ((69,), (66, 62, 57), (41,), 0.5),\n",
        "  ((71,), (67, 64, 60), (43,), 0.5),\n",
        "  ((72,), (69, 65, 60), (48,), 0.5),\n",
        "  ((74,), (71, 67, 62), (50,), 0.5),\n",
        "  ((76,), (74, 69, 64), (52,), 0.5),\n",
        "  ((77,), (76, 72, 67), (53,), 1.0),\n",
        "  ((76,), (74, 71, 67), (52,), 1.0),\n",
        "]\n",
        "\n",
        "# Create a MIDI file with three tracks\n",
        "midi_file = MIDIFile(3)\n",
        "\n",
        "# Set the initial tempo\n",
        "tempo = 120\n",
        "midi_file.addTempo(0, 0, tempo)\n",
        "midi_file.addTempo(1, 0, tempo)\n",
        "midi_file.addTempo(2, 0, tempo)\n",
        "\n",
        "# Set the initial instruments for each track\n",
        "instrument = 0  # Acoustic Grand Piano\n",
        "midi_file.addProgramChange(0, 0, 0, instrument)\n",
        "midi_file.addProgramChange(1, 1, 0, instrument)\n",
        "midi_file.addProgramChange(2, 2, 0, instrument)\n",
        "\n",
        "# Add the notes\n",
        "volume = 80\n",
        "current_time = 0\n",
        "\n",
        "for melody_pitches, chord_pitches, bass_pitches, duration in pitch_duration_data:\n",
        "    for pitch in melody_pitches:\n",
        "        midi_file.addNote(track=0, channel=0, pitch=pitch, time=current_time, duration=duration, volume=volume)\n",
        "    for pitch in chord_pitches:\n",
        "        midi_file.addNote(track=1, channel=1, pitch=pitch, time=current_time, duration=duration, volume=volume)\n",
        "    for pitch in bass_pitches:\n",
        "        midi_file.addNote(track=2, channel=2, pitch=pitch, time=current_time, duration=duration, volume=volume)\n",
        "    current_time += duration\n",
        "\n",
        "# Save the MIDI file\n",
        "with open(\"output_chopin.mid\", \"wb\") as output_file:\n",
        "    midi_file.writeFile(output_file)\n",
        "\n",
        "# Download the MIDI file (if using Google Colab)\n",
        "from google.colab import files\n",
        "files.download(\"output_chopin.mid\")\n"
      ]
    },
    {
      "cell_type": "markdown",
      "metadata": {
        "id": "Ke6PdHsj1C8p"
      },
      "source": [
        "# a canon, a intelligent canon"
      ]
    },
    {
      "cell_type": "code",
      "execution_count": null,
      "metadata": {
        "colab": {
          "base_uri": "https://localhost:8080/",
          "height": 52
        },
        "id": "h-EVw0J-1BaO",
        "outputId": "1b5e8dad-ad56-4deb-bd1d-7ac0a56b9fb5"
      },
      "outputs": [
        {
          "output_type": "stream",
          "name": "stdout",
          "text": [
            "Looking in indexes: https://pypi.org/simple, https://us-python.pkg.dev/colab-wheels/public/simple/\n",
            "Requirement already satisfied: MIDIUtil in /usr/local/lib/python3.10/dist-packages (1.2.1)\n"
          ]
        },
        {
          "output_type": "display_data",
          "data": {
            "text/plain": [
              "<IPython.core.display.Javascript object>"
            ],
            "application/javascript": [
              "\n",
              "    async function download(id, filename, size) {\n",
              "      if (!google.colab.kernel.accessAllowed) {\n",
              "        return;\n",
              "      }\n",
              "      const div = document.createElement('div');\n",
              "      const label = document.createElement('label');\n",
              "      label.textContent = `Downloading \"${filename}\": `;\n",
              "      div.appendChild(label);\n",
              "      const progress = document.createElement('progress');\n",
              "      progress.max = size;\n",
              "      div.appendChild(progress);\n",
              "      document.body.appendChild(div);\n",
              "\n",
              "      const buffers = [];\n",
              "      let downloaded = 0;\n",
              "\n",
              "      const channel = await google.colab.kernel.comms.open(id);\n",
              "      // Send a message to notify the kernel that we're ready.\n",
              "      channel.send({})\n",
              "\n",
              "      for await (const message of channel.messages) {\n",
              "        // Send a message to notify the kernel that we're ready.\n",
              "        channel.send({})\n",
              "        if (message.buffers) {\n",
              "          for (const buffer of message.buffers) {\n",
              "            buffers.push(buffer);\n",
              "            downloaded += buffer.byteLength;\n",
              "            progress.value = downloaded;\n",
              "          }\n",
              "        }\n",
              "      }\n",
              "      const blob = new Blob(buffers, {type: 'application/binary'});\n",
              "      const a = document.createElement('a');\n",
              "      a.href = window.URL.createObjectURL(blob);\n",
              "      a.download = filename;\n",
              "      div.appendChild(a);\n",
              "      a.click();\n",
              "      div.remove();\n",
              "    }\n",
              "  "
            ]
          },
          "metadata": {}
        },
        {
          "output_type": "display_data",
          "data": {
            "text/plain": [
              "<IPython.core.display.Javascript object>"
            ],
            "application/javascript": [
              "download(\"download_b99698f2-d692-478b-aab3-0f28f3514fb5\", \"output_chopin.mid\", 723)"
            ]
          },
          "metadata": {}
        }
      ],
      "source": [
        "# Simplified pitch and duration data for three tracks: melody, chords, and bass\n",
        "pitch_duration_data = [\n",
        "  ((67,), (64, 60, 55), (43,), 0.5),\n",
        "  ((72,), (62, 59, 54), (45,), 0.5),\n",
        "  ((71,), (64, 61, 57), (43,), 0.5),\n",
        "  ((69,), (66, 63, 57), (41,), 0.5),\n",
        "  ((74,), (67, 64, 59), (43,), 0.25),\n",
        "  ((76,), (69, 66, 62), (48,), 0.25),\n",
        "  ((77,), (71, 67, 64), (50,), 0.25),\n",
        "  ((79,), (74, 71, 67), (52,), 0.25),\n",
        "  ((81,), (76, 72, 69), (53,), 1.0),\n",
        "  ((79,), (74, 71, 66), (52,), 0.5),\n",
        "  ((77,), (72, 69, 65), (50,), 0.25),\n",
        "  ((76,), (71, 68, 64), (48,), 0.25),\n",
        "  ((74,), (69, 66, 62), (47,), 0.25),\n",
        "  ((72,), (67, 64, 60), (45,), 0.25),\n",
        "  ((71,), (65, 62, 59), (43,), 1.0),\n",
        "]\n",
        "\n",
        "\n",
        "# Create a MIDI file with three tracks\n",
        "midi_file = MIDIFile(3)\n",
        "\n",
        "# Set the initial tempo\n",
        "tempo = 120\n",
        "midi_file.addTempo(0, 0, tempo)\n",
        "midi_file.addTempo(1, 0, tempo)\n",
        "midi_file.addTempo(2, 0, tempo)\n",
        "\n",
        "# Set the initial instruments for each track\n",
        "instrument = 0  # Acoustic Grand Piano\n",
        "midi_file.addProgramChange(0, 0, 0, instrument)\n",
        "midi_file.addProgramChange(1, 1, 0, instrument)\n",
        "midi_file.addProgramChange(2, 2, 0, instrument)\n",
        "\n",
        "# Add the notes\n",
        "volume = 80\n",
        "current_time = 0\n",
        "\n",
        "for melody_pitches, chord_pitches, bass_pitches, duration in pitch_duration_data:\n",
        "    for pitch in melody_pitches:\n",
        "        midi_file.addNote(track=0, channel=0, pitch=pitch, time=current_time, duration=duration, volume=volume)\n",
        "    for pitch in chord_pitches:\n",
        "        midi_file.addNote(track=1, channel=1, pitch=pitch, time=current_time, duration=duration, volume=volume)\n",
        "    for pitch in bass_pitches:\n",
        "        midi_file.addNote(track=2, channel=2, pitch=pitch, time=current_time, duration=duration, volume=volume)\n",
        "    current_time += duration\n",
        "\n",
        "# Save the MIDI file\n",
        "with open(\"output_chopin.mid\", \"wb\") as output_file:\n",
        "    midi_file.writeFile(output_file)\n",
        "\n",
        "# Download the MIDI file (if using Google Colab)\n",
        "from google.colab import files\n",
        "files.download(\"output_chopin.mid\")\n"
      ]
    },
    {
      "cell_type": "markdown",
      "source": [
        "# EXAMPLE NUMBER 6"
      ],
      "metadata": {
        "id": "0zrp0YZP3ge_"
      }
    },
    {
      "cell_type": "code",
      "execution_count": null,
      "metadata": {
        "colab": {
          "base_uri": "https://localhost:8080/",
          "height": 52
        },
        "id": "jdB68j0Kzeaf",
        "outputId": "eabf2fb7-9f6a-4558-eba2-c3ed04fd5044"
      },
      "outputs": [
        {
          "output_type": "stream",
          "name": "stdout",
          "text": [
            "Looking in indexes: https://pypi.org/simple, https://us-python.pkg.dev/colab-wheels/public/simple/\n",
            "Requirement already satisfied: MIDIUtil in /usr/local/lib/python3.10/dist-packages (1.2.1)\n"
          ]
        },
        {
          "output_type": "display_data",
          "data": {
            "text/plain": [
              "<IPython.core.display.Javascript object>"
            ],
            "application/javascript": [
              "\n",
              "    async function download(id, filename, size) {\n",
              "      if (!google.colab.kernel.accessAllowed) {\n",
              "        return;\n",
              "      }\n",
              "      const div = document.createElement('div');\n",
              "      const label = document.createElement('label');\n",
              "      label.textContent = `Downloading \"${filename}\": `;\n",
              "      div.appendChild(label);\n",
              "      const progress = document.createElement('progress');\n",
              "      progress.max = size;\n",
              "      div.appendChild(progress);\n",
              "      document.body.appendChild(div);\n",
              "\n",
              "      const buffers = [];\n",
              "      let downloaded = 0;\n",
              "\n",
              "      const channel = await google.colab.kernel.comms.open(id);\n",
              "      // Send a message to notify the kernel that we're ready.\n",
              "      channel.send({})\n",
              "\n",
              "      for await (const message of channel.messages) {\n",
              "        // Send a message to notify the kernel that we're ready.\n",
              "        channel.send({})\n",
              "        if (message.buffers) {\n",
              "          for (const buffer of message.buffers) {\n",
              "            buffers.push(buffer);\n",
              "            downloaded += buffer.byteLength;\n",
              "            progress.value = downloaded;\n",
              "          }\n",
              "        }\n",
              "      }\n",
              "      const blob = new Blob(buffers, {type: 'application/binary'});\n",
              "      const a = document.createElement('a');\n",
              "      a.href = window.URL.createObjectURL(blob);\n",
              "      a.download = filename;\n",
              "      div.appendChild(a);\n",
              "      a.click();\n",
              "      div.remove();\n",
              "    }\n",
              "  "
            ]
          },
          "metadata": {}
        },
        {
          "output_type": "display_data",
          "data": {
            "text/plain": [
              "<IPython.core.display.Javascript object>"
            ],
            "application/javascript": [
              "download(\"download_fb289b6d-8998-4727-9413-b541258bb4f9\", \"output.mid\", 660)"
            ]
          },
          "metadata": {}
        }
      ],
      "source": [
        "pitch_duration_data = [\n",
        "    # Melody\n",
        "    (72, 0.5), (74, 0.5), (76, 0.5), (77, 0.5), (79, 0.5), (81, 0.5), (83, 0.5), (84, 0.5),\n",
        "    (84, 0.5), (83, 0.5), (81, 0.5), (79, 0.5), (77, 0.5), (76, 0.5), (74, 0.5), (72, 0.5),\n",
        "    (72, 1.0),\n",
        "\n",
        "    # Harmony\n",
        "    (60, 0.5), (62, 0.5), (64, 0.5), (65, 0.5), (67, 0.5), (69, 0.5), (71, 0.5), (72, 0.5),\n",
        "    (72, 0.5), (71, 0.5), (69, 0.5), (67, 0.5), (65, 0.5), (64, 0.5), (62, 0.5), (60, 0.5),\n",
        "    (60, 1.0),\n",
        "\n",
        "    # Melody\n",
        "    (72, 0.25), (74, 0.25), (76, 0.25), (77, 0.25), (79, 0.25), (81, 0.25), (83, 0.25), (84, 0.25),\n",
        "    (84, 0.25), (83, 0.25), (81, 0.25), (79, 0.25), (77, 0.25), (76, 0.25), (74, 0.25), (72, 0.25),\n",
        "    (72, 1.0),\n",
        "\n",
        "    # Harmony\n",
        "    (60, 0.25), (62, 0.25), (64, 0.25), (65, 0.25), (67, 0.25), (69, 0.25), (71, 0.25), (72, 0.25),\n",
        "    (72, 0.25), (71, 0.25), (69, 0.25), (67, 0.25), (65, 0.25), (64, 0.25), (62, 0.25), (60, 0.25),\n",
        "    (60, 1.0),\n",
        "]\n",
        "\n",
        "midi_file = MIDIFile(1)\n",
        "\n",
        "tempo = 120\n",
        "midi_file.addTempo(0, 0, tempo)\n",
        "\n",
        "instrument = 0  # Acoustic Grand Piano\n",
        "midi_file.addProgramChange(0, 0, 0, instrument)\n",
        "\n",
        "channel = 0\n",
        "volume = 80\n",
        "current_time = 0\n",
        "\n",
        "for pitch, duration in pitch_duration_data:\n",
        "    midi_file.addNote(track=0, channel=channel, pitch=pitch, time=current_time, duration=duration, volume=volume)\n",
        "    current_time += duration\n",
        "\n",
        "with open(\"output.mid\", \"wb\") as output_file:\n",
        "    midi_file.writeFile(output_file)\n",
        "\n",
        "# Download the MIDI file (if using Google Colab)\n",
        "from google.colab import files\n",
        "files.download(\"output.mid\")"
      ]
    },
    {
      "cell_type": "markdown",
      "metadata": {
        "id": "T8EKpvLizz7s"
      },
      "source": [
        "# Johann Strauss beautifull vals"
      ]
    },
    {
      "cell_type": "code",
      "execution_count": null,
      "metadata": {
        "colab": {
          "base_uri": "https://localhost:8080/",
          "height": 52
        },
        "id": "cU5JqG4Dz9TS",
        "outputId": "7b0e7c35-6d06-4181-b8c4-84b02204cf1f"
      },
      "outputs": [
        {
          "output_type": "stream",
          "name": "stdout",
          "text": [
            "Looking in indexes: https://pypi.org/simple, https://us-python.pkg.dev/colab-wheels/public/simple/\n",
            "Requirement already satisfied: MIDIUtil in /usr/local/lib/python3.10/dist-packages (1.2.1)\n"
          ]
        },
        {
          "output_type": "display_data",
          "data": {
            "text/plain": [
              "<IPython.core.display.Javascript object>"
            ],
            "application/javascript": [
              "\n",
              "    async function download(id, filename, size) {\n",
              "      if (!google.colab.kernel.accessAllowed) {\n",
              "        return;\n",
              "      }\n",
              "      const div = document.createElement('div');\n",
              "      const label = document.createElement('label');\n",
              "      label.textContent = `Downloading \"${filename}\": `;\n",
              "      div.appendChild(label);\n",
              "      const progress = document.createElement('progress');\n",
              "      progress.max = size;\n",
              "      div.appendChild(progress);\n",
              "      document.body.appendChild(div);\n",
              "\n",
              "      const buffers = [];\n",
              "      let downloaded = 0;\n",
              "\n",
              "      const channel = await google.colab.kernel.comms.open(id);\n",
              "      // Send a message to notify the kernel that we're ready.\n",
              "      channel.send({})\n",
              "\n",
              "      for await (const message of channel.messages) {\n",
              "        // Send a message to notify the kernel that we're ready.\n",
              "        channel.send({})\n",
              "        if (message.buffers) {\n",
              "          for (const buffer of message.buffers) {\n",
              "            buffers.push(buffer);\n",
              "            downloaded += buffer.byteLength;\n",
              "            progress.value = downloaded;\n",
              "          }\n",
              "        }\n",
              "      }\n",
              "      const blob = new Blob(buffers, {type: 'application/binary'});\n",
              "      const a = document.createElement('a');\n",
              "      a.href = window.URL.createObjectURL(blob);\n",
              "      a.download = filename;\n",
              "      div.appendChild(a);\n",
              "      a.click();\n",
              "      div.remove();\n",
              "    }\n",
              "  "
            ]
          },
          "metadata": {}
        },
        {
          "output_type": "display_data",
          "data": {
            "text/plain": [
              "<IPython.core.display.Javascript object>"
            ],
            "application/javascript": [
              "download(\"download_975734d7-ccb2-4416-b657-c06b6fe327b1\", \"output.mid\", 471)"
            ]
          },
          "metadata": {}
        }
      ],
      "source": [
        "# Melody and chords pitch_duration_data\n",
        "melody_pitch_duration_data = [\n",
        "    (72, 1), (74, 0.5), (76, 0.5),\n",
        "    (74, 0.5), (72, 1.5), (74, 1),\n",
        "    (67, 1), (69, 0.5), (71, 0.5),\n",
        "    (69, 0.5), (67, 1.5), (72, 1),\n",
        "]\n",
        "\n",
        "chords_pitch_duration_data = [\n",
        "    ((60, 64, 67), 0.5), ((60, 64, 67), 0.5), ((60, 64, 67), 1),\n",
        "    ((62, 65, 69), 0.5), ((62, 65, 69), 0.5), ((62, 65, 69), 1),\n",
        "    ((55, 59, 62), 0.5), ((55, 59, 62), 0.5), ((55, 59, 62), 1),\n",
        "    ((60, 64, 67), 0.5), ((60, 64, 67), 0.5), ((60, 64, 67), 1),\n",
        "]\n",
        "\n",
        "midi_file = MIDIFile(2)\n",
        "\n",
        "tempo = 120\n",
        "midi_file.addTempo(0, 0, tempo)\n",
        "midi_file.addTempo(1, 0, tempo)\n",
        "\n",
        "instrument = 0  # Acoustic Grand Piano\n",
        "midi_file.addProgramChange(0, 0, 0, instrument)\n",
        "midi_file.addProgramChange(1, 0, 0, instrument)\n",
        "\n",
        "channel = 0\n",
        "volume = 80\n",
        "\n",
        "# Add melody notes\n",
        "current_time = 0\n",
        "for pitch, duration in melody_pitch_duration_data:\n",
        "    midi_file.addNote(track=0, channel=channel, pitch=pitch, time=current_time, duration=duration, volume=volume)\n",
        "    current_time += duration\n",
        "\n",
        "# Add chord notes\n",
        "current_time = 0\n",
        "for chord_pitches, duration in chords_pitch_duration_data:\n",
        "    for pitch in chord_pitches:\n",
        "        midi_file.addNote(track=1, channel=channel, pitch=pitch, time=current_time, duration=duration, volume=volume)\n",
        "    current_time += duration\n",
        "\n",
        "with open(\"output.mid\", \"wb\") as output_file:\n",
        "    midi_file.writeFile(output_file)\n",
        "\n",
        "# Download the MIDI file (if using Google Colab)\n",
        "from google.colab import files\n",
        "files.download(\"output.mid\")\n",
        "\n"
      ]
    },
    {
      "cell_type": "markdown",
      "source": [
        "# CANON"
      ],
      "metadata": {
        "id": "ZzL6Vg003vt1"
      }
    },
    {
      "cell_type": "code",
      "execution_count": null,
      "metadata": {
        "colab": {
          "base_uri": "https://localhost:8080/",
          "height": 52
        },
        "id": "3Uei6VpjPmBA",
        "outputId": "602a74d9-5392-4175-a948-c4217abe06d7"
      },
      "outputs": [
        {
          "output_type": "stream",
          "name": "stdout",
          "text": [
            "Looking in indexes: https://pypi.org/simple, https://us-python.pkg.dev/colab-wheels/public/simple/\n",
            "Requirement already satisfied: MIDIUtil in /usr/local/lib/python3.10/dist-packages (1.2.1)\n"
          ]
        },
        {
          "output_type": "display_data",
          "data": {
            "text/plain": [
              "<IPython.core.display.Javascript object>"
            ],
            "application/javascript": [
              "\n",
              "    async function download(id, filename, size) {\n",
              "      if (!google.colab.kernel.accessAllowed) {\n",
              "        return;\n",
              "      }\n",
              "      const div = document.createElement('div');\n",
              "      const label = document.createElement('label');\n",
              "      label.textContent = `Downloading \"${filename}\": `;\n",
              "      div.appendChild(label);\n",
              "      const progress = document.createElement('progress');\n",
              "      progress.max = size;\n",
              "      div.appendChild(progress);\n",
              "      document.body.appendChild(div);\n",
              "\n",
              "      const buffers = [];\n",
              "      let downloaded = 0;\n",
              "\n",
              "      const channel = await google.colab.kernel.comms.open(id);\n",
              "      // Send a message to notify the kernel that we're ready.\n",
              "      channel.send({})\n",
              "\n",
              "      for await (const message of channel.messages) {\n",
              "        // Send a message to notify the kernel that we're ready.\n",
              "        channel.send({})\n",
              "        if (message.buffers) {\n",
              "          for (const buffer of message.buffers) {\n",
              "            buffers.push(buffer);\n",
              "            downloaded += buffer.byteLength;\n",
              "            progress.value = downloaded;\n",
              "          }\n",
              "        }\n",
              "      }\n",
              "      const blob = new Blob(buffers, {type: 'application/binary'});\n",
              "      const a = document.createElement('a');\n",
              "      a.href = window.URL.createObjectURL(blob);\n",
              "      a.download = filename;\n",
              "      div.appendChild(a);\n",
              "      a.click();\n",
              "      div.remove();\n",
              "    }\n",
              "  "
            ]
          },
          "metadata": {}
        },
        {
          "output_type": "display_data",
          "data": {
            "text/plain": [
              "<IPython.core.display.Javascript object>"
            ],
            "application/javascript": [
              "download(\"download_a748d89b-08c9-4298-ad1d-19c5892e5fcf\", \"complex_canon_example.mid\", 1240)"
            ]
          },
          "metadata": {}
        }
      ],
      "source": [
        "# Pitch-duration data for the canon\n",
        "pitch_duration_data = [\n",
        "    (60, 1), (60, 0.5), (62, 0.5), (64, 1), (64, 0.5), (65, 0.5), (67, 1), (67, 0.5),\n",
        "    (69, 0.5), (71, 1), (71, 0.5), (72, 0.5), (72, 0.5), (71, 0.5), (69, 0.5), (67, 0.5),\n",
        "    (65, 1), (65, 0.5), (67, 0.5), (69, 1), (69, 0.5), (71, 0.5), (72, 1), (72, 0.5),\n",
        "    (74, 0.5), (72, 0.5), (71, 1), (71, 0.5), (69, 0.5), (67, 1), (67, 0.5), (69, 0.5),\n",
        "]\n",
        "\n",
        "num_voices = 4\n",
        "tempo = 100\n",
        "duration = 0.25\n",
        "midi_file = MIDIFile(num_voices, adjust_origin=True)\n",
        "midi_file.addTempo(0, 0, tempo)\n",
        "\n",
        "# Add the melody for each voice\n",
        "for i in range(num_voices):\n",
        "    for j, (pitch, dur) in enumerate(pitch_duration_data):\n",
        "        delay = i * 2  # 2 quarter notes between each voice\n",
        "        if j % 8 == 0:\n",
        "            pitch += i * 12  # Add octave to the starting pitch for each voice\n",
        "        start_time = (j + delay) * duration\n",
        "        end_time = start_time + dur * duration\n",
        "        midi_file.addNote(i, 0, pitch, start_time, end_time - start_time, 80)\n",
        "\n",
        "# Add a final chord for all voices\n",
        "for i in range(num_voices):\n",
        "    delay = i * 2\n",
        "    for pitch in [60, 64, 67]:\n",
        "        start_time = (len(pitch_duration_data) + delay - 1) * duration\n",
        "        end_time = start_time + duration\n",
        "        midi_file.addNote(i, 0, pitch, start_time, end_time - start_time, 80)\n",
        "\n",
        "with open(\"complex_canon_example.mid\", \"wb\") as output_file:\n",
        "    midi_file.writeFile(output_file)\n",
        "\n",
        "files.download('complex_canon_example.mid')\n"
      ]
    },
    {
      "cell_type": "markdown",
      "source": [
        "# Aphex Twin Melody"
      ],
      "metadata": {
        "id": "R-Zl3O4d31FF"
      }
    },
    {
      "cell_type": "code",
      "execution_count": null,
      "metadata": {
        "colab": {
          "base_uri": "https://localhost:8080/",
          "height": 17
        },
        "id": "ZE02u7iWVcSJ",
        "outputId": "07321629-52f6-441e-f768-650e21cbc748"
      },
      "outputs": [
        {
          "output_type": "display_data",
          "data": {
            "text/plain": [
              "<IPython.core.display.Javascript object>"
            ],
            "application/javascript": [
              "\n",
              "    async function download(id, filename, size) {\n",
              "      if (!google.colab.kernel.accessAllowed) {\n",
              "        return;\n",
              "      }\n",
              "      const div = document.createElement('div');\n",
              "      const label = document.createElement('label');\n",
              "      label.textContent = `Downloading \"${filename}\": `;\n",
              "      div.appendChild(label);\n",
              "      const progress = document.createElement('progress');\n",
              "      progress.max = size;\n",
              "      div.appendChild(progress);\n",
              "      document.body.appendChild(div);\n",
              "\n",
              "      const buffers = [];\n",
              "      let downloaded = 0;\n",
              "\n",
              "      const channel = await google.colab.kernel.comms.open(id);\n",
              "      // Send a message to notify the kernel that we're ready.\n",
              "      channel.send({})\n",
              "\n",
              "      for await (const message of channel.messages) {\n",
              "        // Send a message to notify the kernel that we're ready.\n",
              "        channel.send({})\n",
              "        if (message.buffers) {\n",
              "          for (const buffer of message.buffers) {\n",
              "            buffers.push(buffer);\n",
              "            downloaded += buffer.byteLength;\n",
              "            progress.value = downloaded;\n",
              "          }\n",
              "        }\n",
              "      }\n",
              "      const blob = new Blob(buffers, {type: 'application/binary'});\n",
              "      const a = document.createElement('a');\n",
              "      a.href = window.URL.createObjectURL(blob);\n",
              "      a.download = filename;\n",
              "      div.appendChild(a);\n",
              "      a.click();\n",
              "      div.remove();\n",
              "    }\n",
              "  "
            ]
          },
          "metadata": {}
        },
        {
          "output_type": "display_data",
          "data": {
            "text/plain": [
              "<IPython.core.display.Javascript object>"
            ],
            "application/javascript": [
              "download(\"download_391596cc-5fd5-4174-af06-7ee95b490bd5\", \"aphex_twin_style_melody.mid\", 333)"
            ]
          },
          "metadata": {}
        }
      ],
      "source": [
        "# Pitch-duration data for the melody\n",
        "pitch_duration_data = [\n",
        "    (60, 0.25), (61, 0.25), (63, 0.25), (63, 0.25),\n",
        "    (66, 0.25), (67, 0.25), (69, 0.25), (69, 0.25),\n",
        "    (72, 0.25), (73, 0.25), (75, 0.25), (75, 0.25),\n",
        "    (78, 0.25), (79, 0.25), (81, 0.25), (81, 0.25),\n",
        "    (78, 0.25), (77, 0.25), (75, 0.25), (75, 0.25),\n",
        "    (72, 0.25), (71, 0.25), (69, 0.25), (69, 0.25),\n",
        "    (66, 0.25), (65, 0.25), (63, 0.25), (63, 0.25),\n",
        "    (60, 0.25), (59, 0.25), (57, 0.25), (57, 0.25),\n",
        "]\n",
        "\n",
        "tempo = 120\n",
        "midi_file = MIDIFile(1, adjust_origin=True)\n",
        "midi_file.addTempo(0, 0, tempo)\n",
        "\n",
        "# Add the melody\n",
        "for i, (pitch, duration) in enumerate(pitch_duration_data):\n",
        "    midi_file.addNote(0, 0, pitch, i * duration, duration, 100)\n",
        "\n",
        "with open(\"aphex_twin_style_melody.mid\", \"wb\") as output_file:\n",
        "    midi_file.writeFile(output_file)\n",
        "\n",
        "files.download('aphex_twin_style_melody.mid')\n"
      ]
    }
  ],
  "metadata": {
    "colab": {
      "provenance": [],
      "include_colab_link": true
    },
    "kernelspec": {
      "display_name": "Python 3",
      "name": "python3"
    },
    "language_info": {
      "name": "python"
    }
  },
  "nbformat": 4,
  "nbformat_minor": 0
}